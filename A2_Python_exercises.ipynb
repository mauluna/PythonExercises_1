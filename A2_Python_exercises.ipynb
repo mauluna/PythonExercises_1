{
  "nbformat": 4,
  "nbformat_minor": 0,
  "metadata": {
    "colab": {
      "provenance": [],
      "authorship_tag": "ABX9TyOuT5Pv+o/N+UqbeqBR9pfr",
      "include_colab_link": true
    },
    "kernelspec": {
      "name": "python3",
      "display_name": "Python 3"
    },
    "language_info": {
      "name": "python"
    }
  },
  "cells": [
    {
      "cell_type": "markdown",
      "metadata": {
        "id": "view-in-github",
        "colab_type": "text"
      },
      "source": [
        "<a href=\"https://colab.research.google.com/github/mauluna/PythonExercises_1/blob/main/A2_Python_exercises.ipynb\" target=\"_parent\"><img src=\"https://colab.research.google.com/assets/colab-badge.svg\" alt=\"Open In Colab\"/></a>"
      ]
    },
    {
      "cell_type": "code",
      "execution_count": null,
      "metadata": {
        "id": "Yelfd0fBOf0o",
        "colab": {
          "base_uri": "https://localhost:8080/"
        },
        "outputId": "82d98cc3-744c-47d6-84d9-48539af3a69d"
      },
      "outputs": [
        {
          "output_type": "stream",
          "name": "stdout",
          "text": [
            "Total words: 185\n",
            "Total sentences: 18\n",
            "Total paragraphs: 6\n",
            "Average word length: 4.53\n",
            "Most common words: {'the': 9, 'a': 9, 'and': 6, 'to': 6, 'Ella': 6}\n"
          ]
        }
      ],
      "source": [
        "# Mauricio Luna Escobedo\n",
        "#Id: 1915717\n",
        "# Class day: Tuesday\n",
        "# Hour: N4-N6\n",
        "\n",
        "import pandas as pd\n",
        "\n",
        "# Function named analyze_texto to analyze text\n",
        "def analyze_text(file_path):\n",
        "    try:\n",
        "        #cCommand to open the 'text_1.txt 'file and read its content\n",
        "        file = open(file_path, 'r')\n",
        "        text = file.read()\n",
        "        file.close()\n",
        "    except:\n",
        "        print(\"File is not found.\")\n",
        "        return\n",
        "\n",
        "    # Count words\n",
        "    words = text.split()\n",
        "    total_words = len(words)\n",
        "\n",
        "    # Count sentences\n",
        "    sentences = text.split('.')\n",
        "    total_sentences = len(sentences)\n",
        "\n",
        "    # Count paragraphs\n",
        "    paragraphs = text.split('\\n\\n')\n",
        "    total_paragraphs = len(paragraphs)\n",
        "\n",
        "    # Calculate average word length\n",
        "    average_length = sum(len(word) for word in words) / total_words\n",
        "\n",
        "    # Most common words\n",
        "    word_series = pd.Series(words)\n",
        "    common_words = word_series.value_counts().head(5)\n",
        "\n",
        "\n",
        "    print(\"Total words:\", total_words)\n",
        "    print(\"Total sentences:\", total_sentences)\n",
        "    print(\"Total paragraphs:\", total_paragraphs)\n",
        "    print(\"Average word length:\", round(average_length, 2))\n",
        "    print(\"Most common words:\", common_words.to_dict())\n",
        "\n",
        "file_path = 'text_1.txt'\n",
        "\n",
        "analyze_text(file_path)\n",
        "\n"
      ]
    },
    {
      "cell_type": "code",
      "source": [
        "#Mauricio Luna Escobedo\n",
        "#Id: 1915717\n",
        "#Class day: Tuesday\n",
        "#Hour: N4-N6\n",
        "\n",
        "# Import the random library to enable random selection of words\n",
        "import random\n",
        "\n",
        "# Function called simplified_hangman\n",
        "def simplified_hangman():\n",
        "    # List of words from which one will be randomly selected for the game\n",
        "    words = ['intelligence', 'computer', 'iphone', 'microprocessor']\n",
        "\n",
        "    word = random.choice(words)\n",
        "\n",
        "    hidden = ['_'] * len(word)\n",
        "\n",
        "    lives = 6\n",
        "\n",
        "    print(f'Welcome! You have {lives} lives.')\n",
        "\n",
        "    # loop that will continue as long as the player has lives and the word is not fully revealed\n",
        "    while lives > 0 and '_' in hidden:\n",
        "\n",
        "        print(' '.join(hidden))\n",
        "\n",
        "        guess = input('Guess a letter: ').lower()\n",
        "\n",
        "        if len(guess) != 1:\n",
        "            print('Guess one letter.')\n",
        "            continue\n",
        "\n",
        "        # Check if the guessed letter has already been revealed\n",
        "        if guess in hidden:\n",
        "            print('Already guessed.')\n",
        "            continue\n",
        "\n",
        "        # Check if the guessed letter is in the word\n",
        "        if guess in word:\n",
        "            # Loop through the word to find all occurrences of the guessed letter\n",
        "            for i in range(len(word)):\n",
        "                if word[i] == guess:\n",
        "                    # Reveal the guessed letter in the hidden word\n",
        "                    hidden[i] = guess\n",
        "        else:\n",
        "            lives -= 1\n",
        "            print(f'Wrong. {lives} lives left.')\n",
        "\n",
        "    if '_' not in hidden:\n",
        "        print('You won!')\n",
        "    else:\n",
        "        print('You lost, the word was ' + word)\n",
        "\n",
        "simplified_hangman()\n",
        "\n"
      ],
      "metadata": {
        "id": "g4OxcCPXOktO",
        "colab": {
          "base_uri": "https://localhost:8080/"
        },
        "outputId": "9dcada01-1c2b-4c83-e061-106445a28da4"
      },
      "execution_count": null,
      "outputs": [
        {
          "output_type": "stream",
          "name": "stdout",
          "text": [
            "Welcome! You have 6 lives.\n",
            "_ _ _ _ _ _\n",
            "Guess a letter: c\n",
            "Wrong. 5 lives left.\n",
            "_ _ _ _ _ _\n",
            "Guess a letter: i\n",
            "i _ _ _ _ _\n",
            "Guess a letter: p\n",
            "i p _ _ _ _\n",
            "Guess a letter: h\n",
            "i p h _ _ _\n",
            "Guess a letter: o\n",
            "i p h o _ _\n",
            "Guess a letter: n\n",
            "i p h o n _\n",
            "Guess a letter: e\n",
            "You won!\n"
          ]
        }
      ]
    },
    {
      "cell_type": "code",
      "source": [
        "# Mauricio Luna Escobedo\n",
        "#Id: 1915717\n",
        "# Class day: Tuesday\n",
        "# Hour: N4-N6\n",
        "\n",
        "import random\n",
        "# This is my function to start the guessing game\n",
        "def start_guessing_game():\n",
        "    # The computer picks a number between 1 and 100\n",
        "    my_number = random.randint(1, 100)\n",
        "    # I'll keep track of the number of tries here\n",
        "    tries = 0\n",
        "\n",
        "    print('Hi there! Let\\'s play a guessing game.')\n",
        "    print('I have a number between 1 and 100. Can you guess it?')\n",
        "\n",
        "    while True:  # This loop will keep running until we break it\n",
        "        your_guess = int(input('What\\'s your guess? '))\n",
        "        tries += 1\n",
        "\n",
        "        if your_guess == my_number:\n",
        "            print(f'The number you guessed its correct, it took {tries} tries.')\n",
        "            break\n",
        "        elif your_guess > my_number:\n",
        "            print('Too high. Try again.')\n",
        "        else:\n",
        "            print('Too low. Try again.')\n",
        "\n",
        "start_guessing_game()\n",
        "\n"
      ],
      "metadata": {
        "id": "Nu013osDPJ0-",
        "colab": {
          "base_uri": "https://localhost:8080/"
        },
        "outputId": "2578e3e8-ad66-426d-ccec-cceae7c03aa4"
      },
      "execution_count": null,
      "outputs": [
        {
          "output_type": "stream",
          "name": "stdout",
          "text": [
            "Hi there! Let's play a guessing game.\n",
            "I have a number between 1 and 100. Can you guess it?\n",
            "What's your guess? 38\n",
            "Too low. Try again.\n",
            "What's your guess? 67\n",
            "Too high. Try again.\n",
            "What's your guess? 50\n",
            "Too high. Try again.\n",
            "What's your guess? 45\n",
            "The number you guessed its correct, it took 4 tries.\n"
          ]
        }
      ]
    }
  ]
}